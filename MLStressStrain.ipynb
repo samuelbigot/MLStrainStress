{
  "nbformat": 4,
  "nbformat_minor": 0,
  "metadata": {
    "colab": {
      "provenance": [],
      "authorship_tag": "ABX9TyMwyLy3GNu6VlXyGmGBh9Kf",
      "include_colab_link": true
    },
    "kernelspec": {
      "name": "python3",
      "display_name": "Python 3"
    },
    "language_info": {
      "name": "python"
    }
  },
  "cells": [
    {
      "cell_type": "markdown",
      "metadata": {
        "id": "view-in-github",
        "colab_type": "text"
      },
      "source": [
        "<a href=\"https://colab.research.google.com/github/samuelbigot/MLStrainStress/blob/main/MLStressStrain.ipynb\" target=\"_parent\"><img src=\"https://colab.research.google.com/assets/colab-badge.svg\" alt=\"Open In Colab\"/></a>"
      ]
    },
    {
      "cell_type": "code",
      "source": [
        "import matplotlib.pyplot as plt\n",
        "import numpy as np\n",
        "import pandas as pd\n",
        "from scipy.optimize import minimize\n",
        "from tabulate import tabulate\n",
        "from helper_functions import helperFunctions, params\n",
        "# test 1"
      ],
      "metadata": {
        "id": "3D5vBfLDHEIt"
      },
      "execution_count": 3,
      "outputs": []
    },
    {
      "cell_type": "markdown",
      "source": [],
      "metadata": {
        "id": "wOAZpQpJ0vbU"
      }
    },
    {
      "cell_type": "code",
      "source": [
        "hf = helperFunctions(\"datafile.csv\")\n",
        "df = hf.import_datafile(\"datafile.csv\")"
      ],
      "metadata": {
        "id": "iESlZQnRObTz"
      },
      "execution_count": 2,
      "outputs": []
    },
    {
      "cell_type": "code",
      "source": [
        "sorted_df = hf.processDfIntoMaterials(df)"
      ],
      "metadata": {
        "id": "OusrbWLrYeB4"
      },
      "execution_count": null,
      "outputs": []
    },
    {
      "cell_type": "code",
      "source": [
        "def optimise_law_materials(df_material, p = True):\n",
        "\n",
        "    error_at_each_step = []\n",
        "    def callback_func(params):\n",
        "        error = hf.material_viscoplastic_law_error(params, sigma_exp_material)\n",
        "        error_at_each_step.append(error)\n",
        "\n",
        "    # Initialize parameters\n",
        "    params_init = np.array([50, 0.4, 0.001, -2, 5])  # Initial guess for k, n, m, m6, sigma0\n",
        "\n",
        "    sigma_exp_material = df_material.drop([\"S0\", \"k\", \"n\", \"m\", \"m6\", \"E*\"], axis = 1).values\n",
        "\n",
        "    # Perform gradient descent using SciPy's minimize function\n",
        "    result = minimize(hf.material_viscoplastic_law_error, params_init, args=(sigma_exp_material), method='L-BFGS-B', callback=callback_func)\n",
        "\n",
        "    # Extract optimal parameters\n",
        "    optimal_params = result.x\n",
        "    k_opt, n_opt, m_opt, m6_opt, sigma0_opt = optimal_params\n",
        "\n",
        "\n",
        "\n",
        "\n",
        "    if p == True:\n",
        "        for epsilon_dot, sigma_exp in zip(hf.DEFAULT_STRAIN_RATES, sigma_exp_material):\n",
        "            # plt.plot(error_at_each_step)\n",
        "\n",
        "            k = df_material.iloc[0][\"k\"]\n",
        "            n = df_material.iloc[0][\"n\"]\n",
        "            m = df_material.iloc[0][\"m\"]\n",
        "            m6 = df_material.iloc[0][\"m6\"]\n",
        "            sigma0 = df_material.iloc[0][\"S0\"]\n",
        "\n",
        "            # Round the optimal parameters to 2 decimal places\n",
        "            k_opt_rounded = round(k_opt, 2)\n",
        "            n_opt_rounded = round(n_opt, 2)\n",
        "            m_opt_rounded = round(m_opt, 2)\n",
        "            m6_opt_rounded = round(m6_opt, 2)\n",
        "            sigma0_opt_rounded = round(sigma0_opt, 2)\n",
        "            error = hf.viscoplastic_law_error((k, n, m, m6, sigma0), hf.DEFAULT_EPS_ARRAY, epsilon_dot, sigma_exp)\n",
        "            error_opt_rounded = round(error_at_each_step[-1], 5)\n",
        "\n",
        "\n",
        "\n",
        "            # Define data as a list of tuples\n",
        "            data = [\n",
        "                (\"Final Error\", error_opt_rounded, error),\n",
        "                (\"k\", k_opt_rounded, k),\n",
        "                (\"n\", n_opt_rounded, n),\n",
        "                (\"m\", m_opt_rounded, m),\n",
        "                (\"m6\", m6_opt_rounded, m6),\n",
        "                (\"sigma0\", sigma0_opt_rounded, sigma0)\n",
        "            ]\n",
        "\n",
        "            # Print as a table\n",
        "            table = tabulate(data, headers=[\"Parameter\", \"Optimal Value\", \"Real Value\"], tablefmt=\"grid\")\n",
        "        print(table)\n",
        "\n",
        "    opt_params = params(sigma0_opt, k_opt, n_opt, m_opt, m6_opt)\n",
        "\n",
        "    return opt_params"
      ],
      "metadata": {
        "id": "ylwmqLh_Y1tS"
      },
      "execution_count": null,
      "outputs": []
    },
    {
      "cell_type": "code",
      "source": [
        "def testMaterial(index):\n",
        "    df_material = sorted_df.iloc[index*3:index*3+3]\n",
        "    opt_params = optimise_law_materials(df_material)\n",
        "    hf.validate_material(df_material, opt_params)"
      ],
      "metadata": {
        "id": "SoCPoA5FZtli"
      },
      "execution_count": null,
      "outputs": []
    },
    {
      "cell_type": "code",
      "source": [
        "testMaterial(784)"
      ],
      "metadata": {
        "id": "VHPmqjl7ZwvP"
      },
      "execution_count": null,
      "outputs": []
    },
    {
      "cell_type": "code",
      "source": [
        "def compute_curves(sorted_df):\n",
        "    total_iterations = len(sorted_df) // 3\n",
        "    results = []\n",
        "    for i in range(total_iterations):\n",
        "        df_material = sorted_df[3 * i: 3 * (i+1)]\n",
        "        opt_params = optimise_law_materials(df_material, p = False)\n",
        "\n",
        "        row1 = df_material.iloc[0]\n",
        "        stress_data = df_material.drop(hf.param_list + [\"E*\"], axis = 1)\n",
        "\n",
        "        error_opt = hf.material_viscoplastic_law_error((opt_params.k, opt_params.n, opt_params.m, opt_params.m6, opt_params.s0), stress_data.values)\n",
        "\n",
        "\n",
        "        error = 0\n",
        "        for index, epsilon_dot in enumerate(hf.DEFAULT_STRAIN_RATES):\n",
        "            e = hf.viscoplastic_law_error((row1[\"k\"], row1[\"n\"], row1[\"m\"], row1[\"m6\"], row1[\"S0\"]), hf.DEFAULT_EPS_ARRAY, epsilon_dot, stress_data.iloc[index])\n",
        "            error += e\n",
        "\n",
        "        results.append({\n",
        "            'k_opt': opt_params.k,\n",
        "            'n_opt': opt_params.n,\n",
        "            'm_opt': opt_params.m,\n",
        "            'm6_opt': opt_params.m6,\n",
        "            's0_opt': opt_params.s0,\n",
        "            'error_opt': error_opt,\n",
        "            'k_real': row1[\"k\"],\n",
        "            'n_real': row1[\"n\"],\n",
        "            'm_real': row1[\"m\"],\n",
        "            'm6_real': row1[\"m6\"],\n",
        "            's0_real': row1[\"S0\"],\n",
        "            'error': error/3\n",
        "        })\n",
        "\n",
        "        # Print progress\n",
        "        progress_percent = (i + 1) / total_iterations * 100\n",
        "        print(f\"Processed {i + 1}/{total_iterations} ({progress_percent:.2f}%)\", end=\"\\r\")\n",
        "\n",
        "\n",
        "    return pd.DataFrame(results)"
      ],
      "metadata": {
        "id": "mX-NkEg7Z7y9"
      },
      "execution_count": null,
      "outputs": []
    },
    {
      "cell_type": "code",
      "source": [
        "results = compute_curves(sorted_df)"
      ],
      "metadata": {
        "colab": {
          "base_uri": "https://localhost:8080/"
        },
        "id": "REBIa6VlaBdI",
        "outputId": "97870f07-2b4d-465a-832f-ce24cef742fa"
      },
      "execution_count": null,
      "outputs": [
        {
          "output_type": "stream",
          "name": "stdout",
          "text": []
        },
        {
          "output_type": "stream",
          "name": "stderr",
          "text": [
            "/content/helper_functions.py:52: RuntimeWarning: overflow encountered in square\n",
            "  return np.mean((np.array(sigma_pred) - np.array(sigma_exp))**2)\n",
            "/usr/local/lib/python3.10/dist-packages/scipy/optimize/_numdiff.py:576: RuntimeWarning: invalid value encountered in subtract\n",
            "  df = fun(x) - f0\n"
          ]
        },
        {
          "output_type": "stream",
          "name": "stdout",
          "text": []
        },
        {
          "output_type": "stream",
          "name": "stderr",
          "text": [
            "/content/helper_functions.py:52: RuntimeWarning: overflow encountered in square\n",
            "  return np.mean((np.array(sigma_pred) - np.array(sigma_exp))**2)\n",
            "/usr/local/lib/python3.10/dist-packages/scipy/optimize/_numdiff.py:576: RuntimeWarning: invalid value encountered in subtract\n",
            "  df = fun(x) - f0\n"
          ]
        },
        {
          "output_type": "stream",
          "name": "stdout",
          "text": []
        },
        {
          "output_type": "stream",
          "name": "stderr",
          "text": [
            "/content/helper_functions.py:52: RuntimeWarning: overflow encountered in square\n",
            "  return np.mean((np.array(sigma_pred) - np.array(sigma_exp))**2)\n",
            "/usr/local/lib/python3.10/dist-packages/scipy/optimize/_numdiff.py:576: RuntimeWarning: invalid value encountered in subtract\n",
            "  df = fun(x) - f0\n"
          ]
        },
        {
          "output_type": "stream",
          "name": "stdout",
          "text": [
            "Processed 668/810 (82.47%)\rProcessed 669/810 (82.59%)\r"
          ]
        },
        {
          "output_type": "stream",
          "name": "stderr",
          "text": [
            "/content/helper_functions.py:52: RuntimeWarning: overflow encountered in square\n",
            "  return np.mean((np.array(sigma_pred) - np.array(sigma_exp))**2)\n",
            "/usr/local/lib/python3.10/dist-packages/scipy/optimize/_numdiff.py:576: RuntimeWarning: invalid value encountered in subtract\n",
            "  df = fun(x) - f0\n",
            "/content/helper_functions.py:52: RuntimeWarning: overflow encountered in square\n",
            "  return np.mean((np.array(sigma_pred) - np.array(sigma_exp))**2)\n",
            "/usr/local/lib/python3.10/dist-packages/scipy/optimize/_numdiff.py:576: RuntimeWarning: invalid value encountered in subtract\n",
            "  df = fun(x) - f0\n"
          ]
        },
        {
          "output_type": "stream",
          "name": "stdout",
          "text": [
            "Processed 670/810 (82.72%)\rProcessed 671/810 (82.84%)\r"
          ]
        },
        {
          "output_type": "stream",
          "name": "stderr",
          "text": [
            "/content/helper_functions.py:52: RuntimeWarning: overflow encountered in square\n",
            "  return np.mean((np.array(sigma_pred) - np.array(sigma_exp))**2)\n",
            "/usr/local/lib/python3.10/dist-packages/scipy/optimize/_numdiff.py:576: RuntimeWarning: invalid value encountered in subtract\n",
            "  df = fun(x) - f0\n"
          ]
        },
        {
          "output_type": "stream",
          "name": "stdout",
          "text": []
        },
        {
          "output_type": "stream",
          "name": "stderr",
          "text": [
            "/content/helper_functions.py:52: RuntimeWarning: overflow encountered in square\n",
            "  return np.mean((np.array(sigma_pred) - np.array(sigma_exp))**2)\n",
            "/usr/local/lib/python3.10/dist-packages/scipy/optimize/_numdiff.py:576: RuntimeWarning: invalid value encountered in subtract\n",
            "  df = fun(x) - f0\n",
            "/content/helper_functions.py:52: RuntimeWarning: overflow encountered in square\n",
            "  return np.mean((np.array(sigma_pred) - np.array(sigma_exp))**2)\n",
            "/usr/local/lib/python3.10/dist-packages/scipy/optimize/_numdiff.py:576: RuntimeWarning: invalid value encountered in subtract\n",
            "  df = fun(x) - f0\n"
          ]
        },
        {
          "output_type": "stream",
          "name": "stdout",
          "text": []
        },
        {
          "output_type": "stream",
          "name": "stderr",
          "text": [
            "/content/helper_functions.py:52: RuntimeWarning: overflow encountered in square\n",
            "  return np.mean((np.array(sigma_pred) - np.array(sigma_exp))**2)\n",
            "/usr/local/lib/python3.10/dist-packages/scipy/optimize/_numdiff.py:576: RuntimeWarning: invalid value encountered in subtract\n",
            "  df = fun(x) - f0\n",
            "/content/helper_functions.py:52: RuntimeWarning: overflow encountered in square\n",
            "  return np.mean((np.array(sigma_pred) - np.array(sigma_exp))**2)\n"
          ]
        },
        {
          "output_type": "stream",
          "name": "stdout",
          "text": [
            "Processed 708/810 (87.41%)\rProcessed 709/810 (87.53%)\r"
          ]
        },
        {
          "output_type": "stream",
          "name": "stderr",
          "text": [
            "/usr/local/lib/python3.10/dist-packages/scipy/optimize/_numdiff.py:576: RuntimeWarning: invalid value encountered in subtract\n",
            "  df = fun(x) - f0\n"
          ]
        },
        {
          "output_type": "stream",
          "name": "stdout",
          "text": []
        },
        {
          "output_type": "stream",
          "name": "stderr",
          "text": [
            "/content/helper_functions.py:52: RuntimeWarning: overflow encountered in square\n",
            "  return np.mean((np.array(sigma_pred) - np.array(sigma_exp))**2)\n",
            "/usr/local/lib/python3.10/dist-packages/scipy/optimize/_numdiff.py:576: RuntimeWarning: invalid value encountered in subtract\n",
            "  df = fun(x) - f0\n"
          ]
        },
        {
          "output_type": "stream",
          "name": "stdout",
          "text": []
        },
        {
          "output_type": "stream",
          "name": "stderr",
          "text": [
            "/content/helper_functions.py:52: RuntimeWarning: overflow encountered in square\n",
            "  return np.mean((np.array(sigma_pred) - np.array(sigma_exp))**2)\n",
            "/usr/local/lib/python3.10/dist-packages/scipy/optimize/_numdiff.py:576: RuntimeWarning: invalid value encountered in subtract\n",
            "  df = fun(x) - f0\n"
          ]
        },
        {
          "output_type": "stream",
          "name": "stdout",
          "text": []
        },
        {
          "output_type": "stream",
          "name": "stderr",
          "text": [
            "/content/helper_functions.py:52: RuntimeWarning: overflow encountered in square\n",
            "  return np.mean((np.array(sigma_pred) - np.array(sigma_exp))**2)\n",
            "/usr/local/lib/python3.10/dist-packages/scipy/optimize/_numdiff.py:576: RuntimeWarning: invalid value encountered in subtract\n",
            "  df = fun(x) - f0\n"
          ]
        },
        {
          "output_type": "stream",
          "name": "stdout",
          "text": []
        },
        {
          "output_type": "stream",
          "name": "stderr",
          "text": [
            "/content/helper_functions.py:36: RuntimeWarning: overflow encountered in scalar power\n",
            "  sigma_pred = sigma0 + k * epsilon**n * epsilon_dot**m * np.exp(m6*epsilon)\n",
            "/usr/local/lib/python3.10/dist-packages/pandas/core/arraylike.py:396: RuntimeWarning: overflow encountered in exp\n",
            "  result = getattr(ufunc, method)(*inputs, **kwargs)\n",
            "/usr/local/lib/python3.10/dist-packages/scipy/optimize/_numdiff.py:576: RuntimeWarning: invalid value encountered in subtract\n",
            "  df = fun(x) - f0\n",
            "/content/helper_functions.py:36: RuntimeWarning: overflow encountered in scalar power\n",
            "  sigma_pred = sigma0 + k * epsilon**n * epsilon_dot**m * np.exp(m6*epsilon)\n",
            "/usr/local/lib/python3.10/dist-packages/pandas/core/arraylike.py:396: RuntimeWarning: overflow encountered in exp\n",
            "  result = getattr(ufunc, method)(*inputs, **kwargs)\n",
            "/usr/local/lib/python3.10/dist-packages/scipy/optimize/_numdiff.py:576: RuntimeWarning: invalid value encountered in subtract\n",
            "  df = fun(x) - f0\n",
            "/content/helper_functions.py:36: RuntimeWarning: overflow encountered in scalar power\n",
            "  sigma_pred = sigma0 + k * epsilon**n * epsilon_dot**m * np.exp(m6*epsilon)\n",
            "/usr/local/lib/python3.10/dist-packages/pandas/core/arraylike.py:396: RuntimeWarning: overflow encountered in exp\n",
            "  result = getattr(ufunc, method)(*inputs, **kwargs)\n",
            "/usr/local/lib/python3.10/dist-packages/scipy/optimize/_numdiff.py:576: RuntimeWarning: invalid value encountered in subtract\n",
            "  df = fun(x) - f0\n"
          ]
        },
        {
          "output_type": "stream",
          "name": "stdout",
          "text": []
        }
      ]
    },
    {
      "cell_type": "code",
      "source": [
        "results.to_csv(\"OptimumParameters.csv\")\n",
        "results"
      ],
      "metadata": {
        "colab": {
          "base_uri": "https://localhost:8080/",
          "height": 443
        },
        "id": "sHXJRTGNaPEB",
        "outputId": "3a7d9691-4dc1-4b90-d14d-d1516e20be0b"
      },
      "execution_count": null,
      "outputs": [
        {
          "output_type": "execute_result",
          "data": {
            "text/plain": [
              "          k_opt     n_opt     m_opt    m6_opt      s0_opt  error_opt  k_real  \\\n",
              "0     52.010538  0.063377  0.005422 -2.244008    7.687205   0.190499    50.0   \n",
              "1    695.938712  0.002528 -0.000872 -0.069581 -643.014314   1.259676    50.0   \n",
              "2     52.197987  0.067221 -0.003118 -0.840726    7.171478   0.142580    50.0   \n",
              "3     51.291643  0.056560  0.000520 -0.393871    6.392160   0.043667    50.0   \n",
              "4     53.135992  0.059725  0.089742 -2.090844    5.908932   0.012830    50.0   \n",
              "..          ...       ...       ...       ...         ...        ...     ...   \n",
              "805  279.882446  0.067984  0.000386  0.713615   96.598873   8.815442   300.0   \n",
              "806  278.255937  0.065960  0.003685  0.711561   97.952770   9.172509   300.0   \n",
              "807  279.319560  0.059716  0.017124  0.677165   97.875151  13.384732   300.0   \n",
              "808  277.828262  0.053977  0.028835  0.650831   99.495496  24.680377   300.0   \n",
              "809  277.274516  0.045122  0.052861  0.567321  101.559512  67.931836   300.0   \n",
              "\n",
              "     n_real  m_real  m6_real  s0_real      error  \n",
              "0      0.05   0.001     -2.0      5.0   1.874842  \n",
              "1      0.05   0.001     -1.2      5.0   4.345438  \n",
              "2      0.05   0.001     -0.6      5.0   1.347442  \n",
              "3      0.05   0.001     -0.3      5.0   1.101728  \n",
              "4      0.05   0.090     -2.0      5.0   2.003808  \n",
              "..      ...     ...      ...      ...        ...  \n",
              "805    0.80   0.001      0.0    300.0  18.850751  \n",
              "806    0.80   0.010      0.0    300.0  18.755860  \n",
              "807    0.80   0.050      0.0    300.0  17.945170  \n",
              "808    0.80   0.090      0.0    300.0  17.256840  \n",
              "809    0.80   0.200      0.0    300.0  15.460809  \n",
              "\n",
              "[810 rows x 12 columns]"
            ],
            "text/html": [
              "\n",
              "  <div id=\"df-a6a30553-6fc4-4403-855f-08c07075bdf9\" class=\"colab-df-container\">\n",
              "    <div>\n",
              "<style scoped>\n",
              "    .dataframe tbody tr th:only-of-type {\n",
              "        vertical-align: middle;\n",
              "    }\n",
              "\n",
              "    .dataframe tbody tr th {\n",
              "        vertical-align: top;\n",
              "    }\n",
              "\n",
              "    .dataframe thead th {\n",
              "        text-align: right;\n",
              "    }\n",
              "</style>\n",
              "<table border=\"1\" class=\"dataframe\">\n",
              "  <thead>\n",
              "    <tr style=\"text-align: right;\">\n",
              "      <th></th>\n",
              "      <th>k_opt</th>\n",
              "      <th>n_opt</th>\n",
              "      <th>m_opt</th>\n",
              "      <th>m6_opt</th>\n",
              "      <th>s0_opt</th>\n",
              "      <th>error_opt</th>\n",
              "      <th>k_real</th>\n",
              "      <th>n_real</th>\n",
              "      <th>m_real</th>\n",
              "      <th>m6_real</th>\n",
              "      <th>s0_real</th>\n",
              "      <th>error</th>\n",
              "    </tr>\n",
              "  </thead>\n",
              "  <tbody>\n",
              "    <tr>\n",
              "      <th>0</th>\n",
              "      <td>52.010538</td>\n",
              "      <td>0.063377</td>\n",
              "      <td>0.005422</td>\n",
              "      <td>-2.244008</td>\n",
              "      <td>7.687205</td>\n",
              "      <td>0.190499</td>\n",
              "      <td>50.0</td>\n",
              "      <td>0.05</td>\n",
              "      <td>0.001</td>\n",
              "      <td>-2.0</td>\n",
              "      <td>5.0</td>\n",
              "      <td>1.874842</td>\n",
              "    </tr>\n",
              "    <tr>\n",
              "      <th>1</th>\n",
              "      <td>695.938712</td>\n",
              "      <td>0.002528</td>\n",
              "      <td>-0.000872</td>\n",
              "      <td>-0.069581</td>\n",
              "      <td>-643.014314</td>\n",
              "      <td>1.259676</td>\n",
              "      <td>50.0</td>\n",
              "      <td>0.05</td>\n",
              "      <td>0.001</td>\n",
              "      <td>-1.2</td>\n",
              "      <td>5.0</td>\n",
              "      <td>4.345438</td>\n",
              "    </tr>\n",
              "    <tr>\n",
              "      <th>2</th>\n",
              "      <td>52.197987</td>\n",
              "      <td>0.067221</td>\n",
              "      <td>-0.003118</td>\n",
              "      <td>-0.840726</td>\n",
              "      <td>7.171478</td>\n",
              "      <td>0.142580</td>\n",
              "      <td>50.0</td>\n",
              "      <td>0.05</td>\n",
              "      <td>0.001</td>\n",
              "      <td>-0.6</td>\n",
              "      <td>5.0</td>\n",
              "      <td>1.347442</td>\n",
              "    </tr>\n",
              "    <tr>\n",
              "      <th>3</th>\n",
              "      <td>51.291643</td>\n",
              "      <td>0.056560</td>\n",
              "      <td>0.000520</td>\n",
              "      <td>-0.393871</td>\n",
              "      <td>6.392160</td>\n",
              "      <td>0.043667</td>\n",
              "      <td>50.0</td>\n",
              "      <td>0.05</td>\n",
              "      <td>0.001</td>\n",
              "      <td>-0.3</td>\n",
              "      <td>5.0</td>\n",
              "      <td>1.101728</td>\n",
              "    </tr>\n",
              "    <tr>\n",
              "      <th>4</th>\n",
              "      <td>53.135992</td>\n",
              "      <td>0.059725</td>\n",
              "      <td>0.089742</td>\n",
              "      <td>-2.090844</td>\n",
              "      <td>5.908932</td>\n",
              "      <td>0.012830</td>\n",
              "      <td>50.0</td>\n",
              "      <td>0.05</td>\n",
              "      <td>0.090</td>\n",
              "      <td>-2.0</td>\n",
              "      <td>5.0</td>\n",
              "      <td>2.003808</td>\n",
              "    </tr>\n",
              "    <tr>\n",
              "      <th>...</th>\n",
              "      <td>...</td>\n",
              "      <td>...</td>\n",
              "      <td>...</td>\n",
              "      <td>...</td>\n",
              "      <td>...</td>\n",
              "      <td>...</td>\n",
              "      <td>...</td>\n",
              "      <td>...</td>\n",
              "      <td>...</td>\n",
              "      <td>...</td>\n",
              "      <td>...</td>\n",
              "      <td>...</td>\n",
              "    </tr>\n",
              "    <tr>\n",
              "      <th>805</th>\n",
              "      <td>279.882446</td>\n",
              "      <td>0.067984</td>\n",
              "      <td>0.000386</td>\n",
              "      <td>0.713615</td>\n",
              "      <td>96.598873</td>\n",
              "      <td>8.815442</td>\n",
              "      <td>300.0</td>\n",
              "      <td>0.80</td>\n",
              "      <td>0.001</td>\n",
              "      <td>0.0</td>\n",
              "      <td>300.0</td>\n",
              "      <td>18.850751</td>\n",
              "    </tr>\n",
              "    <tr>\n",
              "      <th>806</th>\n",
              "      <td>278.255937</td>\n",
              "      <td>0.065960</td>\n",
              "      <td>0.003685</td>\n",
              "      <td>0.711561</td>\n",
              "      <td>97.952770</td>\n",
              "      <td>9.172509</td>\n",
              "      <td>300.0</td>\n",
              "      <td>0.80</td>\n",
              "      <td>0.010</td>\n",
              "      <td>0.0</td>\n",
              "      <td>300.0</td>\n",
              "      <td>18.755860</td>\n",
              "    </tr>\n",
              "    <tr>\n",
              "      <th>807</th>\n",
              "      <td>279.319560</td>\n",
              "      <td>0.059716</td>\n",
              "      <td>0.017124</td>\n",
              "      <td>0.677165</td>\n",
              "      <td>97.875151</td>\n",
              "      <td>13.384732</td>\n",
              "      <td>300.0</td>\n",
              "      <td>0.80</td>\n",
              "      <td>0.050</td>\n",
              "      <td>0.0</td>\n",
              "      <td>300.0</td>\n",
              "      <td>17.945170</td>\n",
              "    </tr>\n",
              "    <tr>\n",
              "      <th>808</th>\n",
              "      <td>277.828262</td>\n",
              "      <td>0.053977</td>\n",
              "      <td>0.028835</td>\n",
              "      <td>0.650831</td>\n",
              "      <td>99.495496</td>\n",
              "      <td>24.680377</td>\n",
              "      <td>300.0</td>\n",
              "      <td>0.80</td>\n",
              "      <td>0.090</td>\n",
              "      <td>0.0</td>\n",
              "      <td>300.0</td>\n",
              "      <td>17.256840</td>\n",
              "    </tr>\n",
              "    <tr>\n",
              "      <th>809</th>\n",
              "      <td>277.274516</td>\n",
              "      <td>0.045122</td>\n",
              "      <td>0.052861</td>\n",
              "      <td>0.567321</td>\n",
              "      <td>101.559512</td>\n",
              "      <td>67.931836</td>\n",
              "      <td>300.0</td>\n",
              "      <td>0.80</td>\n",
              "      <td>0.200</td>\n",
              "      <td>0.0</td>\n",
              "      <td>300.0</td>\n",
              "      <td>15.460809</td>\n",
              "    </tr>\n",
              "  </tbody>\n",
              "</table>\n",
              "<p>810 rows × 12 columns</p>\n",
              "</div>\n",
              "    <div class=\"colab-df-buttons\">\n",
              "\n",
              "  <div class=\"colab-df-container\">\n",
              "    <button class=\"colab-df-convert\" onclick=\"convertToInteractive('df-a6a30553-6fc4-4403-855f-08c07075bdf9')\"\n",
              "            title=\"Convert this dataframe to an interactive table.\"\n",
              "            style=\"display:none;\">\n",
              "\n",
              "  <svg xmlns=\"http://www.w3.org/2000/svg\" height=\"24px\" viewBox=\"0 -960 960 960\">\n",
              "    <path d=\"M120-120v-720h720v720H120Zm60-500h600v-160H180v160Zm220 220h160v-160H400v160Zm0 220h160v-160H400v160ZM180-400h160v-160H180v160Zm440 0h160v-160H620v160ZM180-180h160v-160H180v160Zm440 0h160v-160H620v160Z\"/>\n",
              "  </svg>\n",
              "    </button>\n",
              "\n",
              "  <style>\n",
              "    .colab-df-container {\n",
              "      display:flex;\n",
              "      gap: 12px;\n",
              "    }\n",
              "\n",
              "    .colab-df-convert {\n",
              "      background-color: #E8F0FE;\n",
              "      border: none;\n",
              "      border-radius: 50%;\n",
              "      cursor: pointer;\n",
              "      display: none;\n",
              "      fill: #1967D2;\n",
              "      height: 32px;\n",
              "      padding: 0 0 0 0;\n",
              "      width: 32px;\n",
              "    }\n",
              "\n",
              "    .colab-df-convert:hover {\n",
              "      background-color: #E2EBFA;\n",
              "      box-shadow: 0px 1px 2px rgba(60, 64, 67, 0.3), 0px 1px 3px 1px rgba(60, 64, 67, 0.15);\n",
              "      fill: #174EA6;\n",
              "    }\n",
              "\n",
              "    .colab-df-buttons div {\n",
              "      margin-bottom: 4px;\n",
              "    }\n",
              "\n",
              "    [theme=dark] .colab-df-convert {\n",
              "      background-color: #3B4455;\n",
              "      fill: #D2E3FC;\n",
              "    }\n",
              "\n",
              "    [theme=dark] .colab-df-convert:hover {\n",
              "      background-color: #434B5C;\n",
              "      box-shadow: 0px 1px 3px 1px rgba(0, 0, 0, 0.15);\n",
              "      filter: drop-shadow(0px 1px 2px rgba(0, 0, 0, 0.3));\n",
              "      fill: #FFFFFF;\n",
              "    }\n",
              "  </style>\n",
              "\n",
              "    <script>\n",
              "      const buttonEl =\n",
              "        document.querySelector('#df-a6a30553-6fc4-4403-855f-08c07075bdf9 button.colab-df-convert');\n",
              "      buttonEl.style.display =\n",
              "        google.colab.kernel.accessAllowed ? 'block' : 'none';\n",
              "\n",
              "      async function convertToInteractive(key) {\n",
              "        const element = document.querySelector('#df-a6a30553-6fc4-4403-855f-08c07075bdf9');\n",
              "        const dataTable =\n",
              "          await google.colab.kernel.invokeFunction('convertToInteractive',\n",
              "                                                    [key], {});\n",
              "        if (!dataTable) return;\n",
              "\n",
              "        const docLinkHtml = 'Like what you see? Visit the ' +\n",
              "          '<a target=\"_blank\" href=https://colab.research.google.com/notebooks/data_table.ipynb>data table notebook</a>'\n",
              "          + ' to learn more about interactive tables.';\n",
              "        element.innerHTML = '';\n",
              "        dataTable['output_type'] = 'display_data';\n",
              "        await google.colab.output.renderOutput(dataTable, element);\n",
              "        const docLink = document.createElement('div');\n",
              "        docLink.innerHTML = docLinkHtml;\n",
              "        element.appendChild(docLink);\n",
              "      }\n",
              "    </script>\n",
              "  </div>\n",
              "\n",
              "\n",
              "<div id=\"df-ba08862d-3b12-45f0-ac67-541dbe13a6c8\">\n",
              "  <button class=\"colab-df-quickchart\" onclick=\"quickchart('df-ba08862d-3b12-45f0-ac67-541dbe13a6c8')\"\n",
              "            title=\"Suggest charts\"\n",
              "            style=\"display:none;\">\n",
              "\n",
              "<svg xmlns=\"http://www.w3.org/2000/svg\" height=\"24px\"viewBox=\"0 0 24 24\"\n",
              "     width=\"24px\">\n",
              "    <g>\n",
              "        <path d=\"M19 3H5c-1.1 0-2 .9-2 2v14c0 1.1.9 2 2 2h14c1.1 0 2-.9 2-2V5c0-1.1-.9-2-2-2zM9 17H7v-7h2v7zm4 0h-2V7h2v10zm4 0h-2v-4h2v4z\"/>\n",
              "    </g>\n",
              "</svg>\n",
              "  </button>\n",
              "\n",
              "<style>\n",
              "  .colab-df-quickchart {\n",
              "      --bg-color: #E8F0FE;\n",
              "      --fill-color: #1967D2;\n",
              "      --hover-bg-color: #E2EBFA;\n",
              "      --hover-fill-color: #174EA6;\n",
              "      --disabled-fill-color: #AAA;\n",
              "      --disabled-bg-color: #DDD;\n",
              "  }\n",
              "\n",
              "  [theme=dark] .colab-df-quickchart {\n",
              "      --bg-color: #3B4455;\n",
              "      --fill-color: #D2E3FC;\n",
              "      --hover-bg-color: #434B5C;\n",
              "      --hover-fill-color: #FFFFFF;\n",
              "      --disabled-bg-color: #3B4455;\n",
              "      --disabled-fill-color: #666;\n",
              "  }\n",
              "\n",
              "  .colab-df-quickchart {\n",
              "    background-color: var(--bg-color);\n",
              "    border: none;\n",
              "    border-radius: 50%;\n",
              "    cursor: pointer;\n",
              "    display: none;\n",
              "    fill: var(--fill-color);\n",
              "    height: 32px;\n",
              "    padding: 0;\n",
              "    width: 32px;\n",
              "  }\n",
              "\n",
              "  .colab-df-quickchart:hover {\n",
              "    background-color: var(--hover-bg-color);\n",
              "    box-shadow: 0 1px 2px rgba(60, 64, 67, 0.3), 0 1px 3px 1px rgba(60, 64, 67, 0.15);\n",
              "    fill: var(--button-hover-fill-color);\n",
              "  }\n",
              "\n",
              "  .colab-df-quickchart-complete:disabled,\n",
              "  .colab-df-quickchart-complete:disabled:hover {\n",
              "    background-color: var(--disabled-bg-color);\n",
              "    fill: var(--disabled-fill-color);\n",
              "    box-shadow: none;\n",
              "  }\n",
              "\n",
              "  .colab-df-spinner {\n",
              "    border: 2px solid var(--fill-color);\n",
              "    border-color: transparent;\n",
              "    border-bottom-color: var(--fill-color);\n",
              "    animation:\n",
              "      spin 1s steps(1) infinite;\n",
              "  }\n",
              "\n",
              "  @keyframes spin {\n",
              "    0% {\n",
              "      border-color: transparent;\n",
              "      border-bottom-color: var(--fill-color);\n",
              "      border-left-color: var(--fill-color);\n",
              "    }\n",
              "    20% {\n",
              "      border-color: transparent;\n",
              "      border-left-color: var(--fill-color);\n",
              "      border-top-color: var(--fill-color);\n",
              "    }\n",
              "    30% {\n",
              "      border-color: transparent;\n",
              "      border-left-color: var(--fill-color);\n",
              "      border-top-color: var(--fill-color);\n",
              "      border-right-color: var(--fill-color);\n",
              "    }\n",
              "    40% {\n",
              "      border-color: transparent;\n",
              "      border-right-color: var(--fill-color);\n",
              "      border-top-color: var(--fill-color);\n",
              "    }\n",
              "    60% {\n",
              "      border-color: transparent;\n",
              "      border-right-color: var(--fill-color);\n",
              "    }\n",
              "    80% {\n",
              "      border-color: transparent;\n",
              "      border-right-color: var(--fill-color);\n",
              "      border-bottom-color: var(--fill-color);\n",
              "    }\n",
              "    90% {\n",
              "      border-color: transparent;\n",
              "      border-bottom-color: var(--fill-color);\n",
              "    }\n",
              "  }\n",
              "</style>\n",
              "\n",
              "  <script>\n",
              "    async function quickchart(key) {\n",
              "      const quickchartButtonEl =\n",
              "        document.querySelector('#' + key + ' button');\n",
              "      quickchartButtonEl.disabled = true;  // To prevent multiple clicks.\n",
              "      quickchartButtonEl.classList.add('colab-df-spinner');\n",
              "      try {\n",
              "        const charts = await google.colab.kernel.invokeFunction(\n",
              "            'suggestCharts', [key], {});\n",
              "      } catch (error) {\n",
              "        console.error('Error during call to suggestCharts:', error);\n",
              "      }\n",
              "      quickchartButtonEl.classList.remove('colab-df-spinner');\n",
              "      quickchartButtonEl.classList.add('colab-df-quickchart-complete');\n",
              "    }\n",
              "    (() => {\n",
              "      let quickchartButtonEl =\n",
              "        document.querySelector('#df-ba08862d-3b12-45f0-ac67-541dbe13a6c8 button');\n",
              "      quickchartButtonEl.style.display =\n",
              "        google.colab.kernel.accessAllowed ? 'block' : 'none';\n",
              "    })();\n",
              "  </script>\n",
              "</div>\n",
              "\n",
              "  <div id=\"id_a6c77b03-9b5c-4e9d-b270-b15eccdaf945\">\n",
              "    <style>\n",
              "      .colab-df-generate {\n",
              "        background-color: #E8F0FE;\n",
              "        border: none;\n",
              "        border-radius: 50%;\n",
              "        cursor: pointer;\n",
              "        display: none;\n",
              "        fill: #1967D2;\n",
              "        height: 32px;\n",
              "        padding: 0 0 0 0;\n",
              "        width: 32px;\n",
              "      }\n",
              "\n",
              "      .colab-df-generate:hover {\n",
              "        background-color: #E2EBFA;\n",
              "        box-shadow: 0px 1px 2px rgba(60, 64, 67, 0.3), 0px 1px 3px 1px rgba(60, 64, 67, 0.15);\n",
              "        fill: #174EA6;\n",
              "      }\n",
              "\n",
              "      [theme=dark] .colab-df-generate {\n",
              "        background-color: #3B4455;\n",
              "        fill: #D2E3FC;\n",
              "      }\n",
              "\n",
              "      [theme=dark] .colab-df-generate:hover {\n",
              "        background-color: #434B5C;\n",
              "        box-shadow: 0px 1px 3px 1px rgba(0, 0, 0, 0.15);\n",
              "        filter: drop-shadow(0px 1px 2px rgba(0, 0, 0, 0.3));\n",
              "        fill: #FFFFFF;\n",
              "      }\n",
              "    </style>\n",
              "    <button class=\"colab-df-generate\" onclick=\"generateWithVariable('results')\"\n",
              "            title=\"Generate code using this dataframe.\"\n",
              "            style=\"display:none;\">\n",
              "\n",
              "  <svg xmlns=\"http://www.w3.org/2000/svg\" height=\"24px\"viewBox=\"0 0 24 24\"\n",
              "       width=\"24px\">\n",
              "    <path d=\"M7,19H8.4L18.45,9,17,7.55,7,17.6ZM5,21V16.75L18.45,3.32a2,2,0,0,1,2.83,0l1.4,1.43a1.91,1.91,0,0,1,.58,1.4,1.91,1.91,0,0,1-.58,1.4L9.25,21ZM18.45,9,17,7.55Zm-12,3A5.31,5.31,0,0,0,4.9,8.1,5.31,5.31,0,0,0,1,6.5,5.31,5.31,0,0,0,4.9,4.9,5.31,5.31,0,0,0,6.5,1,5.31,5.31,0,0,0,8.1,4.9,5.31,5.31,0,0,0,12,6.5,5.46,5.46,0,0,0,6.5,12Z\"/>\n",
              "  </svg>\n",
              "    </button>\n",
              "    <script>\n",
              "      (() => {\n",
              "      const buttonEl =\n",
              "        document.querySelector('#id_a6c77b03-9b5c-4e9d-b270-b15eccdaf945 button.colab-df-generate');\n",
              "      buttonEl.style.display =\n",
              "        google.colab.kernel.accessAllowed ? 'block' : 'none';\n",
              "\n",
              "      buttonEl.onclick = () => {\n",
              "        google.colab.notebook.generateWithVariable('results');\n",
              "      }\n",
              "      })();\n",
              "    </script>\n",
              "  </div>\n",
              "\n",
              "    </div>\n",
              "  </div>\n"
            ],
            "application/vnd.google.colaboratory.intrinsic+json": {
              "type": "dataframe",
              "variable_name": "results",
              "summary": "{\n  \"name\": \"results\",\n  \"rows\": 810,\n  \"fields\": [\n    {\n      \"column\": \"k_opt\",\n      \"properties\": {\n        \"dtype\": \"number\",\n        \"std\": 182.94381101642264,\n        \"min\": 41.89406063290599,\n        \"max\": 2713.045215415349,\n        \"num_unique_values\": 809,\n        \"samples\": [\n          245.85704105865642,\n          60.59079531535846,\n          83.04299835835619\n        ],\n        \"semantic_type\": \"\",\n        \"description\": \"\"\n      }\n    },\n    {\n      \"column\": \"n_opt\",\n      \"properties\": {\n        \"dtype\": \"number\",\n        \"std\": 0.1936318295629036,\n        \"min\": 0.0008487893468660336,\n        \"max\": 0.81424660294589,\n        \"num_unique_values\": 809,\n        \"samples\": [\n          0.021691556057501383,\n          0.0843121612370974,\n          0.3571359891732587\n        ],\n        \"semantic_type\": \"\",\n        \"description\": \"\"\n      }\n    },\n    {\n      \"column\": \"m_opt\",\n      \"properties\": {\n        \"dtype\": \"number\",\n        \"std\": 0.11019083256243868,\n        \"min\": -0.626795486061672,\n        \"max\": 0.27799721324885357,\n        \"num_unique_values\": 809,\n        \"samples\": [\n          0.022332317337993214,\n          0.0008872383925533318,\n          0.031058930091644947\n        ],\n        \"semantic_type\": \"\",\n        \"description\": \"\"\n      }\n    },\n    {\n      \"column\": \"m6_opt\",\n      \"properties\": {\n        \"dtype\": \"number\",\n        \"std\": 0.7974246466594982,\n        \"min\": -3.068665160698188,\n        \"max\": 0.7321833119148152,\n        \"num_unique_values\": 809,\n        \"samples\": [\n          0.12309571983517943,\n          -0.01182162219791815,\n          -0.5044693610671805\n        ],\n        \"semantic_type\": \"\",\n        \"description\": \"\"\n      }\n    },\n    {\n      \"column\": \"s0_opt\",\n      \"properties\": {\n        \"dtype\": \"number\",\n        \"std\": 179.39224360252862,\n        \"min\": -2608.5243045036736,\n        \"max\": 302.6601835502162,\n        \"num_unique_values\": 809,\n        \"samples\": [\n          94.83778089553002,\n          15.46154772055702,\n          19.82527136255582\n        ],\n        \"semantic_type\": \"\",\n        \"description\": \"\"\n      }\n    },\n    {\n      \"column\": \"error_opt\",\n      \"properties\": {\n        \"dtype\": \"number\",\n        \"std\": 11511.37370034664,\n        \"min\": 0.00045312222707684786,\n        \"max\": 164874.55545003258,\n        \"num_unique_values\": 808,\n        \"samples\": [\n          8.236170568012755,\n          0.002267070705404604,\n          0.3905969293482552\n        ],\n        \"semantic_type\": \"\",\n        \"description\": \"\"\n      }\n    },\n    {\n      \"column\": \"k_real\",\n      \"properties\": {\n        \"dtype\": \"number\",\n        \"std\": 68.18499906335639,\n        \"min\": 50.0,\n        \"max\": 300.0,\n        \"num_unique_values\": 6,\n        \"samples\": [\n          50.0,\n          80.0,\n          300.0\n        ],\n        \"semantic_type\": \"\",\n        \"description\": \"\"\n      }\n    },\n    {\n      \"column\": \"n_real\",\n      \"properties\": {\n        \"dtype\": \"number\",\n        \"std\": 0.2211982313241588,\n        \"min\": 0.05,\n        \"max\": 0.8,\n        \"num_unique_values\": 6,\n        \"samples\": [\n          0.05,\n          0.1,\n          0.8\n        ],\n        \"semantic_type\": \"\",\n        \"description\": \"\"\n      }\n    },\n    {\n      \"column\": \"m_real\",\n      \"properties\": {\n        \"dtype\": \"number\",\n        \"std\": 0.07021278316956903,\n        \"min\": 0.001,\n        \"max\": 0.2,\n        \"num_unique_values\": 5,\n        \"samples\": [\n          0.09,\n          0.01,\n          0.2\n        ],\n        \"semantic_type\": \"\",\n        \"description\": \"\"\n      }\n    },\n    {\n      \"column\": \"m6_real\",\n      \"properties\": {\n        \"dtype\": \"number\",\n        \"std\": 0.6754839816536112,\n        \"min\": -2.0,\n        \"max\": 0.0,\n        \"num_unique_values\": 5,\n        \"samples\": [\n          -1.2,\n          0.0,\n          -0.6\n        ],\n        \"semantic_type\": \"\",\n        \"description\": \"\"\n      }\n    },\n    {\n      \"column\": \"s0_real\",\n      \"properties\": {\n        \"dtype\": \"number\",\n        \"std\": 112.17580402594092,\n        \"min\": 5.0,\n        \"max\": 300.0,\n        \"num_unique_values\": 7,\n        \"samples\": [\n          5.0,\n          20.0,\n          200.0\n        ],\n        \"semantic_type\": \"\",\n        \"description\": \"\"\n      }\n    },\n    {\n      \"column\": \"error\",\n      \"properties\": {\n        \"dtype\": \"number\",\n        \"std\": 6.527003530043781,\n        \"min\": 0.06556389756838464,\n        \"max\": 92.3571659457482,\n        \"num_unique_values\": 808,\n        \"samples\": [\n          5.872629618942118,\n          0.3704275402179566,\n          5.05840080429272\n        ],\n        \"semantic_type\": \"\",\n        \"description\": \"\"\n      }\n    }\n  ]\n}"
            }
          },
          "metadata": {},
          "execution_count": 57
        }
      ]
    },
    {
      "cell_type": "markdown",
      "source": [
        "BELOW CODE TO CHECK RESULTS NO NEED TO RUN THE ABOVE AGAIN JUST LOAD OPTIMUM PARAMETERS\n",
        "\n",
        "\n",
        "```\n",
        "# This is formatted as code\n",
        "```\n",
        "\n"
      ],
      "metadata": {
        "id": "fMuy-YvabVd9"
      }
    },
    {
      "cell_type": "code",
      "source": [
        "#add code to load optimum parameters"
      ],
      "metadata": {
        "id": "Xy5zNF3Pb5wN"
      },
      "execution_count": null,
      "outputs": []
    },
    {
      "cell_type": "code",
      "source": [
        "\n",
        "df_first = df.loc[(df[\"S0\"] == 5) & (df[\"k\"] == 50) & (df[\"n\"] == 0.05) & (df[\"m\"] == 0.2) & (df[\"m6\"] == -0.6) & (df[\"E*\"] == 0.01)]\n",
        "r = df_first.iloc[0]\n",
        "\n",
        "S_Pred = 4.84 + 52*df_first[\"E\"] ** 0.05 *  0.01 ** 0.19 * np.exp(df_first[\"E\"] * -0.57)\n",
        "S_Equation = df_first[\"S0\"] + df_first[\"k\"] * (df_first[\"E\"]**df_first[\"n\"]) * df_first[\"E*\"]**df_first[\"m\"] * np.exp(df_first[\"E\"] * df_first[\"m6\"])\n"
      ],
      "metadata": {
        "id": "whIByOs3Pykj"
      },
      "execution_count": null,
      "outputs": []
    },
    {
      "cell_type": "code",
      "source": [
        "plt.plot(S_Equation,'r')\n",
        "plt.plot(df_first[\"S\"],'b')\n",
        "plt.plot(S_Pred, 'g')"
      ],
      "metadata": {
        "colab": {
          "base_uri": "https://localhost:8080/",
          "height": 447
        },
        "id": "3r8diL1-QFjF",
        "outputId": "4b12a7e6-7bb4-4448-cb35-62360bb1f617"
      },
      "execution_count": null,
      "outputs": [
        {
          "output_type": "execute_result",
          "data": {
            "text/plain": [
              "[<matplotlib.lines.Line2D at 0x793cf5b36080>]"
            ]
          },
          "metadata": {},
          "execution_count": 33
        },
        {
          "output_type": "display_data",
          "data": {
            "text/plain": [
              "<Figure size 640x480 with 1 Axes>"
            ],
            "image/png": "[encoded data removed]"
          },
          "metadata": {}
        }
      ]
    }
  ]
}